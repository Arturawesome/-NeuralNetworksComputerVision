{
  "nbformat": 4,
  "nbformat_minor": 0,
  "metadata": {
    "colab": {
      "name": "Stepick_Sem1.ipynb",
      "provenance": [],
      "collapsed_sections": []
    },
    "kernelspec": {
      "name": "python3",
      "display_name": "Python 3"
    },
    "language_info": {
      "name": "python"
    },
    "accelerator": "GPU",
    "gpuClass": "standard"
  },
  "cells": [
    {
      "cell_type": "code",
      "execution_count": 3,
      "metadata": {
        "id": "BQCVKg8ALUAy"
      },
      "outputs": [],
      "source": [
        "import torch\n",
        "import numpy as np\n"
      ]
    },
    {
      "cell_type": "code",
      "source": [
        "x = torch.Tensor([[1,2,3, 4],[5, 6, 7, 8], [9, 10, 11, 12], [13, 14, 15, 16] ])\n",
        "y = torch.Tensor([[16, 15, 14, 13], [12, 11, 10, 9], [8, 7, 6, 5], [4, 3, 2,1] ])\n",
        "x.size()"
      ],
      "metadata": {
        "colab": {
          "base_uri": "https://localhost:8080/"
        },
        "id": "42NzkSOiLefH",
        "outputId": "803e9e9f-32d0-440c-d577-86ddf4ffe65a"
      },
      "execution_count": 3,
      "outputs": [
        {
          "output_type": "execute_result",
          "data": {
            "text/plain": [
              "torch.Size([4, 4])"
            ]
          },
          "metadata": {},
          "execution_count": 3
        }
      ]
    },
    {
      "cell_type": "code",
      "source": [
        "x.shape"
      ],
      "metadata": {
        "colab": {
          "base_uri": "https://localhost:8080/"
        },
        "id": "UHEI8A0KQL1D",
        "outputId": "a94546eb-f336-4869-c7a5-2e74b116ee9a"
      },
      "execution_count": 4,
      "outputs": [
        {
          "output_type": "execute_result",
          "data": {
            "text/plain": [
              "torch.Size([4, 4])"
            ]
          },
          "metadata": {},
          "execution_count": 4
        }
      ]
    },
    {
      "cell_type": "code",
      "source": [
        "x[1]"
      ],
      "metadata": {
        "colab": {
          "base_uri": "https://localhost:8080/"
        },
        "id": "UlVISLoUQhNt",
        "outputId": "e2b815aa-bafd-4a69-979b-92dc0eb0e130"
      },
      "execution_count": 5,
      "outputs": [
        {
          "output_type": "execute_result",
          "data": {
            "text/plain": [
              "tensor([5., 6., 7., 8.])"
            ]
          },
          "metadata": {},
          "execution_count": 5
        }
      ]
    },
    {
      "cell_type": "code",
      "source": [
        "x[0, 0]\n",
        "x+10\n"
      ],
      "metadata": {
        "colab": {
          "base_uri": "https://localhost:8080/"
        },
        "id": "5fWOdpk3Q7GK",
        "outputId": "6f253a4b-6727-46e6-fa7b-d5262a3b3c5d"
      },
      "execution_count": 6,
      "outputs": [
        {
          "output_type": "execute_result",
          "data": {
            "text/plain": [
              "tensor([[11., 12., 13., 14.],\n",
              "        [15., 16., 17., 18.],\n",
              "        [19., 20., 21., 22.],\n",
              "        [23., 24., 25., 26.]])"
            ]
          },
          "metadata": {},
          "execution_count": 6
        }
      ]
    },
    {
      "cell_type": "code",
      "source": [
        "x**2\n",
        "x+y\n",
        "torch.exp(x)\n",
        "\n",
        "y[y>4]"
      ],
      "metadata": {
        "colab": {
          "base_uri": "https://localhost:8080/"
        },
        "id": "8_zGFWj6RDFx",
        "outputId": "ff157e75-6421-4ff5-dd1a-3146dd5ef47f"
      },
      "execution_count": 7,
      "outputs": [
        {
          "output_type": "execute_result",
          "data": {
            "text/plain": [
              "tensor([16., 15., 14., 13., 12., 11., 10.,  9.,  8.,  7.,  6.,  5.])"
            ]
          },
          "metadata": {},
          "execution_count": 7
        }
      ]
    },
    {
      "cell_type": "code",
      "source": [
        "y2 = x\n",
        "y2[0, 0]= 1000\n",
        "print(x)\n",
        "print(y2)\n",
        "x = torch.Tensor([[1,2,3, 4],[5, 6, 7, 8], [9, 10, 11, 12], [13, 14, 15, 16] ])\n",
        "\n",
        "y2 = x.clone()\n",
        "y2[0, 0] = 1000\n",
        "print(x)\n",
        "print(y2)\n",
        "\n",
        "print(x.dtype)\n",
        "x = x.double()\n",
        "print(x.dtype)\n",
        "\n",
        "x = x.int()\n",
        "print(x)\n",
        "print(x.dtype)"
      ],
      "metadata": {
        "colab": {
          "base_uri": "https://localhost:8080/"
        },
        "id": "6sxjuz1hRxMj",
        "outputId": "093c02e2-0437-4d44-f420-31167242ca17"
      },
      "execution_count": 8,
      "outputs": [
        {
          "output_type": "stream",
          "name": "stdout",
          "text": [
            "tensor([[1000.,    2.,    3.,    4.],\n",
            "        [   5.,    6.,    7.,    8.],\n",
            "        [   9.,   10.,   11.,   12.],\n",
            "        [  13.,   14.,   15.,   16.]])\n",
            "tensor([[1000.,    2.,    3.,    4.],\n",
            "        [   5.,    6.,    7.,    8.],\n",
            "        [   9.,   10.,   11.,   12.],\n",
            "        [  13.,   14.,   15.,   16.]])\n",
            "tensor([[ 1.,  2.,  3.,  4.],\n",
            "        [ 5.,  6.,  7.,  8.],\n",
            "        [ 9., 10., 11., 12.],\n",
            "        [13., 14., 15., 16.]])\n",
            "tensor([[1000.,    2.,    3.,    4.],\n",
            "        [   5.,    6.,    7.,    8.],\n",
            "        [   9.,   10.,   11.,   12.],\n",
            "        [  13.,   14.,   15.,   16.]])\n",
            "torch.float32\n",
            "torch.float64\n",
            "tensor([[ 1,  2,  3,  4],\n",
            "        [ 5,  6,  7,  8],\n",
            "        [ 9, 10, 11, 12],\n",
            "        [13, 14, 15, 16]], dtype=torch.int32)\n",
            "torch.int32\n"
          ]
        }
      ]
    },
    {
      "cell_type": "code",
      "source": [
        "import numpy as np\n",
        "\n",
        "x = np.array([[1, 2, 3, 4],\n",
        "              [4, 3, 2, 1]])\n",
        "print(x.dtype)\n",
        "x = torch.from_numpy(x)\n",
        "\n",
        "print(x.dtype)\n",
        "\n",
        "x = torch.rand([2000,3000])\n"
      ],
      "metadata": {
        "colab": {
          "base_uri": "https://localhost:8080/"
        },
        "id": "Lt74xzM0SG04",
        "outputId": "c332bb02-f926-4533-dd27-bd3d457aa5bc"
      },
      "execution_count": 4,
      "outputs": [
        {
          "output_type": "stream",
          "name": "stdout",
          "text": [
            "int64\n",
            "torch.int64\n"
          ]
        }
      ]
    },
    {
      "cell_type": "code",
      "source": [
        "torch.cuda.is_available()\n",
        "torch.device('cuda:0')"
      ],
      "metadata": {
        "colab": {
          "base_uri": "https://localhost:8080/"
        },
        "id": "vFrpj0njTtw8",
        "outputId": "985936ea-d899-4d67-b5f7-6f283433f935"
      },
      "execution_count": 5,
      "outputs": [
        {
          "output_type": "execute_result",
          "data": {
            "text/plain": [
              "device(type='cuda', index=0)"
            ]
          },
          "metadata": {},
          "execution_count": 5
        }
      ]
    },
    {
      "cell_type": "code",
      "source": [
        "torch.device(\"cpu\")"
      ],
      "metadata": {
        "id": "Wt4_Tu62U7hb"
      },
      "execution_count": null,
      "outputs": []
    },
    {
      "cell_type": "code",
      "source": [
        "\n",
        "device = torch.device('cuda:0' if torch.cuda.is_available() else 'cpu')\n",
        "print(device)"
      ],
      "metadata": {
        "colab": {
          "base_uri": "https://localhost:8080/"
        },
        "id": "UECtUuGyVEyc",
        "outputId": "e15d2a06-5df6-4e9a-e8d4-51bd1b3f57e3"
      },
      "execution_count": 6,
      "outputs": [
        {
          "output_type": "stream",
          "name": "stdout",
          "text": [
            "cuda:0\n"
          ]
        }
      ]
    },
    {
      "cell_type": "code",
      "source": [
        "x_cuda = x.to(device)\n",
        "%time y_cuda = (x_cuda - x_cuda + x_cuda * 10.0) ** 2"
      ],
      "metadata": {
        "colab": {
          "base_uri": "https://localhost:8080/"
        },
        "id": "uzgnL0tUVPMU",
        "outputId": "c789ea46-2c24-488c-9fa8-50dba6b2d806"
      },
      "execution_count": 7,
      "outputs": [
        {
          "output_type": "stream",
          "name": "stdout",
          "text": [
            "CPU times: user 1.58 ms, sys: 1.27 ms, total: 2.85 ms\n",
            "Wall time: 21 ms\n"
          ]
        }
      ]
    },
    {
      "cell_type": "code",
      "source": [
        "%time y = (x - x +x ** 10) **2"
      ],
      "metadata": {
        "colab": {
          "base_uri": "https://localhost:8080/"
        },
        "id": "sq5m30T6Wh9r",
        "outputId": "a746bcd5-e6ad-4bf8-cc33-602c7b27e9e9"
      },
      "execution_count": 8,
      "outputs": [
        {
          "output_type": "stream",
          "name": "stdout",
          "text": [
            "CPU times: user 69.3 ms, sys: 34.3 ms, total: 104 ms\n",
            "Wall time: 113 ms\n"
          ]
        }
      ]
    }
  ]
}